{
 "cells": [
  {
   "cell_type": "markdown",
   "metadata": {},
   "source": [
    "# Introduction\n",
    "In this notebook I am going to implement a Batch Gradient Descent with Early Stopping using Softmax Regression model <b>without Scikit-Learn</b> (or at least try to do it :D)."
   ]
  },
  {
   "cell_type": "markdown",
   "metadata": {},
   "source": [
    "### Dataset\n",
    "I will use Iris dataset from sklearn datasets"
   ]
  },
  {
   "cell_type": "code",
   "execution_count": 41,
   "metadata": {},
   "outputs": [
    {
     "data": {
      "text/plain": [
       "1"
      ]
     },
     "execution_count": 41,
     "metadata": {},
     "output_type": "execute_result"
    }
   ],
   "source": [
    "from sklearn import datasets\n",
    "\n",
    "iris = datasets.load_iris()\n",
    "X = iris[\"data\"][:, 2:]\n",
    "y = iris[\"target\"]"
   ]
  },
  {
   "cell_type": "markdown",
   "metadata": {},
   "source": [
    "As we can see, this dataset is sorted. If we would be using SGD there will be a need to shuffle it, but as we use BGD it may remain as it is."
   ]
  },
  {
   "cell_type": "markdown",
   "metadata": {},
   "source": [
    "### Softmax regression using BGD"
   ]
  },
  {
   "cell_type": "code",
   "execution_count": 53,
   "metadata": {},
   "outputs": [],
   "source": [
    "import numpy as np\n",
    "\n",
    "X_with_bias = np.c_[np.ones([len(X), 1]), X]\n",
    "np.random.seed(2042)"
   ]
  },
  {
   "cell_type": "code",
   "execution_count": null,
   "metadata": {},
   "outputs": [],
   "source": [
    "theta1 = np.random.randn(2,1)\n",
    "theta2 = np.random.randn(2,1)\n",
    "theta3 = np.random.randn(2,1)\n",
    "\n",
    "m = X.shape[0]\n",
    "epochs = 100\n",
    "eta = 0.1\n",
    "\n",
    "for i, x in enumerate(X):\n",
    "    s1 = x.T.dot(theta1)\n",
    "    s2 = x.T.dot(theta2)\n",
    "    s3 = x.T.dot(theta3)\n",
    "    \n",
    "    s = np.c_[s1, s2, s3].ravel()\n",
    "    # print(s)\n",
    "    \n",
    "    p1 = np.exp(s1) / sum(np.exp(s))\n",
    "    p2 = np.exp(s2) / sum(np.exp(s))\n",
    "    p3 = np.exp(s3) / sum(np.exp(s))\n",
    "    \n",
    "    # print(p1, p2, p3)\n",
    "    \n",
    "    y_up = np.argmax(s)\n",
    "    # print(y_up)\n",
    "    \n",
    "    yk1, yk2, yk3 = 0, 0, 0\n",
    "    \n",
    "    if y[i] == 0:\n",
    "        yk1 = 1\n",
    "    elif y[i] == 1:\n",
    "        yk2 = 1\n",
    "    elif y[i] == 2:\n",
    "        yk3 = 1\n",
    "    \n",
    "    grad1 = 1/m * sum(p1 - yk1)*x\n",
    "    grad2 = 1/m * sum(p2 - yk2)*x\n",
    "    grad3 = 1/m * sum(p3 - yk3)*x\n",
    "    \n",
    "    theta1 = theta1 - eta*grad1\n",
    "    theta2 = theta2 - eta*grad2\n",
    "    theta3 = theta3 - eta*grad3\n",
    "       \n",
    "\n",
    "print(eta*grad1)\n",
    "print(theta2)\n",
    "print(theta3)\n",
    "    \n",
    "    \n",
    "    "
   ]
  },
  {
   "cell_type": "markdown",
   "metadata": {},
   "source": []
  },
  {
   "cell_type": "code",
   "execution_count": null,
   "metadata": {},
   "outputs": [],
   "source": []
  }
 ],
 "metadata": {
  "kernelspec": {
   "display_name": "Python 3.9.13 ('env': venv)",
   "language": "python",
   "name": "python3"
  },
  "language_info": {
   "codemirror_mode": {
    "name": "ipython",
    "version": 3
   },
   "file_extension": ".py",
   "mimetype": "text/x-python",
   "name": "python",
   "nbconvert_exporter": "python",
   "pygments_lexer": "ipython3",
   "version": "3.9.13"
  },
  "orig_nbformat": 4,
  "vscode": {
   "interpreter": {
    "hash": "b7fdb54b42d75f7dc4bc7211c14a537c22f55fe700ff72c130752bbe38f9a9cd"
   }
  }
 },
 "nbformat": 4,
 "nbformat_minor": 2
}
