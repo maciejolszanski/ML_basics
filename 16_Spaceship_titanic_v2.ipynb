{
 "cells": [
  {
   "cell_type": "markdown",
   "metadata": {},
   "source": [
    "# Spacehip Titanic v2\n",
    "\n",
    "This is my second approach to this kaggle competition."
   ]
  },
  {
   "cell_type": "code",
   "execution_count": 52,
   "metadata": {},
   "outputs": [],
   "source": [
    "import numpy as np\n",
    "import pandas as pd\n",
    "import matplotlib.pyplot as plt\n",
    "%matplotlib inline"
   ]
  },
  {
   "cell_type": "markdown",
   "metadata": {},
   "source": [
    "## Downloading data"
   ]
  },
  {
   "cell_type": "code",
   "execution_count": 53,
   "metadata": {},
   "outputs": [],
   "source": [
    "TRAIN_DATASET_PATH = \"datasets\\\\spaceship-titanic\\\\train.csv\"\n",
    "SUBMISSION_DATASET_PATH = \"datasets\\\\spaceship-titanic\\\\test.csv\""
   ]
  },
  {
   "cell_type": "code",
   "execution_count": 54,
   "metadata": {},
   "outputs": [],
   "source": [
    "from sklearn.model_selection import train_test_split\n",
    "\n",
    "test_ratio = 0.2\n",
    "\n",
    "dataset = pd.read_csv(TRAIN_DATASET_PATH)\n",
    "train_set, test_set = train_test_split(dataset, test_size=test_ratio)\n",
    "X_train, y_train = train_set.drop(\"Transported\", axis=1), train_set[\"Transported\"]\n",
    "X_test, y_test = test_set.drop(\"Transported\", axis=1), test_set[\"Transported\"]"
   ]
  },
  {
   "cell_type": "markdown",
   "metadata": {},
   "source": [
    "## Data insight"
   ]
  },
  {
   "cell_type": "code",
   "execution_count": 55,
   "metadata": {},
   "outputs": [
    {
     "data": {
      "text/html": [
       "<div>\n",
       "<style scoped>\n",
       "    .dataframe tbody tr th:only-of-type {\n",
       "        vertical-align: middle;\n",
       "    }\n",
       "\n",
       "    .dataframe tbody tr th {\n",
       "        vertical-align: top;\n",
       "    }\n",
       "\n",
       "    .dataframe thead th {\n",
       "        text-align: right;\n",
       "    }\n",
       "</style>\n",
       "<table border=\"1\" class=\"dataframe\">\n",
       "  <thead>\n",
       "    <tr style=\"text-align: right;\">\n",
       "      <th></th>\n",
       "      <th>PassengerId</th>\n",
       "      <th>HomePlanet</th>\n",
       "      <th>CryoSleep</th>\n",
       "      <th>Cabin</th>\n",
       "      <th>Destination</th>\n",
       "      <th>Age</th>\n",
       "      <th>VIP</th>\n",
       "      <th>RoomService</th>\n",
       "      <th>FoodCourt</th>\n",
       "      <th>ShoppingMall</th>\n",
       "      <th>Spa</th>\n",
       "      <th>VRDeck</th>\n",
       "      <th>Name</th>\n",
       "    </tr>\n",
       "  </thead>\n",
       "  <tbody>\n",
       "    <tr>\n",
       "      <th>5713</th>\n",
       "      <td>6054_01</td>\n",
       "      <td>Mars</td>\n",
       "      <td>True</td>\n",
       "      <td>F/1151/S</td>\n",
       "      <td>TRAPPIST-1e</td>\n",
       "      <td>28.0</td>\n",
       "      <td>NaN</td>\n",
       "      <td>0.0</td>\n",
       "      <td>0.0</td>\n",
       "      <td>0.0</td>\n",
       "      <td>0.0</td>\n",
       "      <td>0.0</td>\n",
       "      <td>Frus Kie</td>\n",
       "    </tr>\n",
       "    <tr>\n",
       "      <th>3778</th>\n",
       "      <td>4034_01</td>\n",
       "      <td>Mars</td>\n",
       "      <td>True</td>\n",
       "      <td>E/247/P</td>\n",
       "      <td>TRAPPIST-1e</td>\n",
       "      <td>38.0</td>\n",
       "      <td>False</td>\n",
       "      <td>0.0</td>\n",
       "      <td>0.0</td>\n",
       "      <td>0.0</td>\n",
       "      <td>0.0</td>\n",
       "      <td>0.0</td>\n",
       "      <td>Froon Kité</td>\n",
       "    </tr>\n",
       "    <tr>\n",
       "      <th>8490</th>\n",
       "      <td>9072_02</td>\n",
       "      <td>Mars</td>\n",
       "      <td>False</td>\n",
       "      <td>F/1758/S</td>\n",
       "      <td>TRAPPIST-1e</td>\n",
       "      <td>30.0</td>\n",
       "      <td>False</td>\n",
       "      <td>160.0</td>\n",
       "      <td>0.0</td>\n",
       "      <td>719.0</td>\n",
       "      <td>162.0</td>\n",
       "      <td>0.0</td>\n",
       "      <td>Aleys Creke</td>\n",
       "    </tr>\n",
       "    <tr>\n",
       "      <th>8212</th>\n",
       "      <td>8776_01</td>\n",
       "      <td>Earth</td>\n",
       "      <td>False</td>\n",
       "      <td>E/574/S</td>\n",
       "      <td>TRAPPIST-1e</td>\n",
       "      <td>40.0</td>\n",
       "      <td>False</td>\n",
       "      <td>0.0</td>\n",
       "      <td>0.0</td>\n",
       "      <td>286.0</td>\n",
       "      <td>6.0</td>\n",
       "      <td>570.0</td>\n",
       "      <td>Winia Headardyer</td>\n",
       "    </tr>\n",
       "    <tr>\n",
       "      <th>6257</th>\n",
       "      <td>6623_01</td>\n",
       "      <td>NaN</td>\n",
       "      <td>True</td>\n",
       "      <td>B/218/P</td>\n",
       "      <td>55 Cancri e</td>\n",
       "      <td>38.0</td>\n",
       "      <td>False</td>\n",
       "      <td>NaN</td>\n",
       "      <td>0.0</td>\n",
       "      <td>0.0</td>\n",
       "      <td>0.0</td>\n",
       "      <td>0.0</td>\n",
       "      <td>Saxinon Geraing</td>\n",
       "    </tr>\n",
       "  </tbody>\n",
       "</table>\n",
       "</div>"
      ],
      "text/plain": [
       "     PassengerId HomePlanet CryoSleep     Cabin  Destination   Age    VIP  \\\n",
       "5713     6054_01       Mars      True  F/1151/S  TRAPPIST-1e  28.0    NaN   \n",
       "3778     4034_01       Mars      True   E/247/P  TRAPPIST-1e  38.0  False   \n",
       "8490     9072_02       Mars     False  F/1758/S  TRAPPIST-1e  30.0  False   \n",
       "8212     8776_01      Earth     False   E/574/S  TRAPPIST-1e  40.0  False   \n",
       "6257     6623_01        NaN      True   B/218/P  55 Cancri e  38.0  False   \n",
       "\n",
       "      RoomService  FoodCourt  ShoppingMall    Spa  VRDeck              Name  \n",
       "5713          0.0        0.0           0.0    0.0     0.0          Frus Kie  \n",
       "3778          0.0        0.0           0.0    0.0     0.0        Froon Kité  \n",
       "8490        160.0        0.0         719.0  162.0     0.0       Aleys Creke  \n",
       "8212          0.0        0.0         286.0    6.0   570.0  Winia Headardyer  \n",
       "6257          NaN        0.0           0.0    0.0     0.0   Saxinon Geraing  "
      ]
     },
     "execution_count": 55,
     "metadata": {},
     "output_type": "execute_result"
    }
   ],
   "source": [
    "X_train.head()"
   ]
  },
  {
   "cell_type": "code",
   "execution_count": 56,
   "metadata": {},
   "outputs": [
    {
     "name": "stdout",
     "output_type": "stream",
     "text": [
      "<class 'pandas.core.frame.DataFrame'>\n",
      "Int64Index: 6954 entries, 5713 to 6676\n",
      "Data columns (total 13 columns):\n",
      " #   Column        Non-Null Count  Dtype  \n",
      "---  ------        --------------  -----  \n",
      " 0   PassengerId   6954 non-null   object \n",
      " 1   HomePlanet    6791 non-null   object \n",
      " 2   CryoSleep     6775 non-null   object \n",
      " 3   Cabin         6787 non-null   object \n",
      " 4   Destination   6806 non-null   object \n",
      " 5   Age           6812 non-null   float64\n",
      " 6   VIP           6785 non-null   object \n",
      " 7   RoomService   6813 non-null   float64\n",
      " 8   FoodCourt     6804 non-null   float64\n",
      " 9   ShoppingMall  6790 non-null   float64\n",
      " 10  Spa           6808 non-null   float64\n",
      " 11  VRDeck        6810 non-null   float64\n",
      " 12  Name          6793 non-null   object \n",
      "dtypes: float64(6), object(7)\n",
      "memory usage: 760.6+ KB\n"
     ]
    }
   ],
   "source": [
    "X_train.info()"
   ]
  },
  {
   "cell_type": "code",
   "execution_count": 57,
   "metadata": {},
   "outputs": [
    {
     "data": {
      "text/plain": [
       "Earth     3680\n",
       "Europa    1723\n",
       "Mars      1388\n",
       "Name: HomePlanet, dtype: int64"
      ]
     },
     "execution_count": 57,
     "metadata": {},
     "output_type": "execute_result"
    }
   ],
   "source": [
    "X_train[\"HomePlanet\"].value_counts()"
   ]
  },
  {
   "cell_type": "code",
   "execution_count": 58,
   "metadata": {},
   "outputs": [
    {
     "data": {
      "text/plain": [
       "TRAPPIST-1e      4707\n",
       "55 Cancri e      1467\n",
       "PSO J318.5-22     632\n",
       "Name: Destination, dtype: int64"
      ]
     },
     "execution_count": 58,
     "metadata": {},
     "output_type": "execute_result"
    }
   ],
   "source": [
    "X_train[\"Destination\"].value_counts()"
   ]
  },
  {
   "cell_type": "code",
   "execution_count": 59,
   "metadata": {},
   "outputs": [
    {
     "name": "stdout",
     "output_type": "stream",
     "text": [
      "NaN amount and percentage:\n",
      "PassengerId       0 \t 0.00%\n",
      "HomePlanet      163 \t 2.40%\n",
      "CryoSleep       179 \t 2.64%\n",
      "Cabin           167 \t 2.46%\n",
      "Destination     148 \t 2.17%\n",
      "Age             142 \t 2.08%\n",
      "VIP             169 \t 2.49%\n",
      "RoomService     141 \t 2.07%\n",
      "FoodCourt       150 \t 2.20%\n",
      "ShoppingMall    164 \t 2.42%\n",
      "Spa             146 \t 2.14%\n",
      "VRDeck          144 \t 2.11%\n",
      "Name            161 \t 2.37%\n"
     ]
    }
   ],
   "source": [
    "print(\"NaN amount and percentage:\")\n",
    "for column in X_train.columns:\n",
    "    sum = X_train[column].isnull().sum()\n",
    "    percent = sum/X_train[column].count()\n",
    "    print(f\"{column:15} {sum:3} \\t {percent:.2%}\")"
   ]
  },
  {
   "cell_type": "markdown",
   "metadata": {},
   "source": [
    "As we can see there is quite a lot of nan values in each column. We will have to do something with it later.\n",
    "\n",
    "Let's split the column names into category and numerical columns. This will be helpful later."
   ]
  },
  {
   "cell_type": "code",
   "execution_count": 60,
   "metadata": {},
   "outputs": [
    {
     "name": "stdout",
     "output_type": "stream",
     "text": [
      "['PassengerId', 'HomePlanet', 'CryoSleep', 'Cabin', 'Destination', 'VIP', 'Name'] ['Age', 'RoomService', 'FoodCourt', 'ShoppingMall', 'Spa', 'VRDeck']\n"
     ]
    }
   ],
   "source": [
    "cat_cols = []\n",
    "num_cols = []\n",
    "\n",
    "for column in X_train.columns:\n",
    "    if X_train[column].dtype == \"object\":\n",
    "        cat_cols.append(column)\n",
    "    if X_train[column].dtype == \"float64\":\n",
    "        num_cols.append(column)\n",
    "\n",
    "print(cat_cols, num_cols)"
   ]
  },
  {
   "cell_type": "code",
   "execution_count": 61,
   "metadata": {},
   "outputs": [
    {
     "data": {
      "text/plain": [
       "array([[<AxesSubplot: title={'center': 'Age'}>,\n",
       "        <AxesSubplot: title={'center': 'RoomService'}>],\n",
       "       [<AxesSubplot: title={'center': 'FoodCourt'}>,\n",
       "        <AxesSubplot: title={'center': 'ShoppingMall'}>],\n",
       "       [<AxesSubplot: title={'center': 'Spa'}>,\n",
       "        <AxesSubplot: title={'center': 'VRDeck'}>]], dtype=object)"
      ]
     },
     "execution_count": 61,
     "metadata": {},
     "output_type": "execute_result"
    },
    {
     "data": {
      "image/png": "[encoded data removed]",
      "text/plain": [
       "<Figure size 1200x1000 with 6 Axes>"
      ]
     },
     "metadata": {},
     "output_type": "display_data"
    }
   ],
   "source": [
    "X_train[num_cols].hist(figsize=(12,10))"
   ]
  },
  {
   "cell_type": "code",
   "execution_count": 62,
   "metadata": {},
   "outputs": [
    {
     "data": {
      "text/html": [
       "<div>\n",
       "<style scoped>\n",
       "    .dataframe tbody tr th:only-of-type {\n",
       "        vertical-align: middle;\n",
       "    }\n",
       "\n",
       "    .dataframe tbody tr th {\n",
       "        vertical-align: top;\n",
       "    }\n",
       "\n",
       "    .dataframe thead th {\n",
       "        text-align: right;\n",
       "    }\n",
       "</style>\n",
       "<table border=\"1\" class=\"dataframe\">\n",
       "  <thead>\n",
       "    <tr style=\"text-align: right;\">\n",
       "      <th></th>\n",
       "      <th>Age</th>\n",
       "      <th>RoomService</th>\n",
       "      <th>FoodCourt</th>\n",
       "      <th>ShoppingMall</th>\n",
       "      <th>Spa</th>\n",
       "      <th>VRDeck</th>\n",
       "    </tr>\n",
       "  </thead>\n",
       "  <tbody>\n",
       "    <tr>\n",
       "      <th>count</th>\n",
       "      <td>6812.00000</td>\n",
       "      <td>6813.000000</td>\n",
       "      <td>6804.000000</td>\n",
       "      <td>6790.00000</td>\n",
       "      <td>6808.000000</td>\n",
       "      <td>6810.000000</td>\n",
       "    </tr>\n",
       "    <tr>\n",
       "      <th>mean</th>\n",
       "      <td>28.75690</td>\n",
       "      <td>225.111405</td>\n",
       "      <td>469.168577</td>\n",
       "      <td>167.52430</td>\n",
       "      <td>313.382491</td>\n",
       "      <td>320.113950</td>\n",
       "    </tr>\n",
       "    <tr>\n",
       "      <th>std</th>\n",
       "      <td>14.42779</td>\n",
       "      <td>670.807408</td>\n",
       "      <td>1646.954806</td>\n",
       "      <td>524.65256</td>\n",
       "      <td>1139.308334</td>\n",
       "      <td>1203.690706</td>\n",
       "    </tr>\n",
       "    <tr>\n",
       "      <th>min</th>\n",
       "      <td>0.00000</td>\n",
       "      <td>0.000000</td>\n",
       "      <td>0.000000</td>\n",
       "      <td>0.00000</td>\n",
       "      <td>0.000000</td>\n",
       "      <td>0.000000</td>\n",
       "    </tr>\n",
       "    <tr>\n",
       "      <th>25%</th>\n",
       "      <td>19.00000</td>\n",
       "      <td>0.000000</td>\n",
       "      <td>0.000000</td>\n",
       "      <td>0.00000</td>\n",
       "      <td>0.000000</td>\n",
       "      <td>0.000000</td>\n",
       "    </tr>\n",
       "    <tr>\n",
       "      <th>50%</th>\n",
       "      <td>27.00000</td>\n",
       "      <td>0.000000</td>\n",
       "      <td>0.000000</td>\n",
       "      <td>0.00000</td>\n",
       "      <td>0.000000</td>\n",
       "      <td>0.000000</td>\n",
       "    </tr>\n",
       "    <tr>\n",
       "      <th>75%</th>\n",
       "      <td>37.00000</td>\n",
       "      <td>43.000000</td>\n",
       "      <td>83.000000</td>\n",
       "      <td>25.00000</td>\n",
       "      <td>61.000000</td>\n",
       "      <td>47.000000</td>\n",
       "    </tr>\n",
       "    <tr>\n",
       "      <th>max</th>\n",
       "      <td>79.00000</td>\n",
       "      <td>14327.000000</td>\n",
       "      <td>29813.000000</td>\n",
       "      <td>10424.00000</td>\n",
       "      <td>18572.000000</td>\n",
       "      <td>24133.000000</td>\n",
       "    </tr>\n",
       "  </tbody>\n",
       "</table>\n",
       "</div>"
      ],
      "text/plain": [
       "              Age   RoomService     FoodCourt  ShoppingMall           Spa  \\\n",
       "count  6812.00000   6813.000000   6804.000000    6790.00000   6808.000000   \n",
       "mean     28.75690    225.111405    469.168577     167.52430    313.382491   \n",
       "std      14.42779    670.807408   1646.954806     524.65256   1139.308334   \n",
       "min       0.00000      0.000000      0.000000       0.00000      0.000000   \n",
       "25%      19.00000      0.000000      0.000000       0.00000      0.000000   \n",
       "50%      27.00000      0.000000      0.000000       0.00000      0.000000   \n",
       "75%      37.00000     43.000000     83.000000      25.00000     61.000000   \n",
       "max      79.00000  14327.000000  29813.000000   10424.00000  18572.000000   \n",
       "\n",
       "             VRDeck  \n",
       "count   6810.000000  \n",
       "mean     320.113950  \n",
       "std     1203.690706  \n",
       "min        0.000000  \n",
       "25%        0.000000  \n",
       "50%        0.000000  \n",
       "75%       47.000000  \n",
       "max    24133.000000  "
      ]
     },
     "execution_count": 62,
     "metadata": {},
     "output_type": "execute_result"
    }
   ],
   "source": [
    "X_train[num_cols].describe()"
   ]
  },
  {
   "cell_type": "markdown",
   "metadata": {},
   "source": [
    "As we cann see the histograms don't look like normal distribution at all. \n",
    "\n",
    "\n",
    "In fact this data is exponentially distributed. \n",
    "\n",
    "I dont know how to deal with it yet, but I'll try to do something aboit it."
   ]
  },
  {
   "cell_type": "markdown",
   "metadata": {},
   "source": [
    "## Data preparation"
   ]
  },
  {
   "cell_type": "markdown",
   "metadata": {},
   "source": [
    "### Data distribution"
   ]
  },
  {
   "cell_type": "code",
   "execution_count": 63,
   "metadata": {},
   "outputs": [
    {
     "data": {
      "text/plain": [
       "<AxesSubplot: >"
      ]
     },
     "execution_count": 63,
     "metadata": {},
     "output_type": "execute_result"
    },
    {
     "data": {
      "image/png": "[encoded data removed]",
      "text/plain": [
       "<Figure size 640x480 with 1 Axes>"
      ]
     },
     "metadata": {},
     "output_type": "display_data"
    }
   ],
   "source": [
    "X_train[\"FoodCourt\"].hist()"
   ]
  },
  {
   "cell_type": "code",
   "execution_count": 64,
   "metadata": {},
   "outputs": [
    {
     "name": "stdout",
     "output_type": "stream",
     "text": [
      "Percent of -inf values: 63.77%\n"
     ]
    },
    {
     "data": {
      "image/png": "[encoded data removed]",
      "text/plain": [
       "<Figure size 640x480 with 1 Axes>"
      ]
     },
     "metadata": {},
     "output_type": "display_data"
    }
   ],
   "source": [
    "from scipy.stats import boxcox\n",
    "\n",
    "data = boxcox(X_train[\"FoodCourt\"], 0)\n",
    "data[data > -np.inf].hist()\n",
    "inf_perc = data[data == -np.inf].count() / data.count()\n",
    "print(f\"Percent of -inf values: {inf_perc:.2%}\")"
   ]
  },
  {
   "cell_type": "markdown",
   "metadata": {},
   "source": [
    "Boxcox is ineefective because more than half of the records is transformed to -inf."
   ]
  },
  {
   "cell_type": "code",
   "execution_count": 65,
   "metadata": {},
   "outputs": [
    {
     "name": "stderr",
     "output_type": "stream",
     "text": [
      "C:\\Users\\m.olszanski\\AppData\\Local\\Temp\\ipykernel_12092\\2932121801.py:1: UserWarning: Boolean Series key will be reindexed to match DataFrame index.\n",
      "  X_train[X_train[\"FoodCourt\"] > 0][X_train[\"FoodCourt\"] < 5000][\"FoodCourt\"].hist()\n"
     ]
    },
    {
     "data": {
      "text/plain": [
       "<AxesSubplot: >"
      ]
     },
     "execution_count": 65,
     "metadata": {},
     "output_type": "execute_result"
    },
    {
     "data": {
      "image/png": "[encoded data removed]",
      "text/plain": [
       "<Figure size 640x480 with 1 Axes>"
      ]
     },
     "metadata": {},
     "output_type": "display_data"
    }
   ],
   "source": [
    "X_train[X_train[\"FoodCourt\"] > 0][X_train[\"FoodCourt\"] < 5000][\"FoodCourt\"].hist()"
   ]
  },
  {
   "cell_type": "code",
   "execution_count": 66,
   "metadata": {},
   "outputs": [
    {
     "data": {
      "text/plain": [
       "Transported     1.000000\n",
       "FoodCourt       0.053590\n",
       "ShoppingMall    0.008360\n",
       "Age            -0.076378\n",
       "VRDeck         -0.210343\n",
       "Spa            -0.219409\n",
       "RoomService    -0.244221\n",
       "Name: Transported, dtype: float64"
      ]
     },
     "execution_count": 66,
     "metadata": {},
     "output_type": "execute_result"
    }
   ],
   "source": [
    "corr_matrix = train_set.corr(numeric_only=True)\n",
    "corr_matrix[\"Transported\"].sort_values(ascending=False)"
   ]
  },
  {
   "cell_type": "markdown",
   "metadata": {},
   "source": [
    "I will leave this numerical data as they are. I will only Use standard scaler in the pipeline.\n",
    "\n",
    "Only RoomService, Spa and VRDeck has a significant negative correlation with the label."
   ]
  },
  {
   "cell_type": "markdown",
   "metadata": {},
   "source": [
    "### Categorical values\n",
    "For the categorical values I will use the One-Hot-Encoding. I will also create a custom transformer to extract the \"Deck\" value from \"Cabin\"column."
   ]
  },
  {
   "cell_type": "code",
   "execution_count": 167,
   "metadata": {},
   "outputs": [],
   "source": [
    "from sklearn.base import BaseEstimator, TransformerMixin\n",
    "from copy import deepcopy\n",
    "\n",
    "class SeatInfoAdder(BaseEstimator, TransformerMixin):\n",
    "    \n",
    "    def __init__(self, only_deck=True):\n",
    "        self.only_deck = only_deck\n",
    "    \n",
    "    def fit(self, X, y=None):\n",
    "        return self\n",
    "    \n",
    "    def transform(self, X, y=None):\n",
    "        \n",
    "        X_new = deepcopy(X)\n",
    "        X_new[\"deck\"] =  X_new['Cabin'].str.split('/', expand=True).iloc[:,0]\n",
    "        \n",
    "        if self.only_deck:\n",
    "            return X_new\n",
    "        else:\n",
    "            X_new[\"num\"], X_new[\"side\"] = X_new['Cabin'].str.split('/', expand=True).iloc[:, 1:]\n",
    "            return X_new"
   ]
  },
  {
   "cell_type": "markdown",
   "metadata": {},
   "source": [
    "We also have to do something with the missing categorical values (for numerical we simply use the median value imputer).\n",
    "\n",
    "I will implement the transformer that replces missing categorical values with the most frequent ones."
   ]
  },
  {
   "cell_type": "code",
   "execution_count": 168,
   "metadata": {},
   "outputs": [],
   "source": [
    "class CategoricalImputer(BaseEstimator, TransformerMixin):\n",
    "    \n",
    "    def __init__(self, strategy=\"most_freq\", value=None):\n",
    "        \"\"\" \n",
    "        Imputer for replacing missing categorical values.\n",
    "\n",
    "        Args:\n",
    "            strategy (str): Strategy that the imputer will use to replace missing values:\n",
    "                - most_freq - replacing with the most frequent values\n",
    "                - constant - replacing with the contant value (provided as a second argument)\n",
    "                - drop - dropping the rows with missing value !!!DOES NOT WORK!!!\n",
    "            \n",
    "            value (str): Value that imputer will use to replace value, if the \"contant\" strategy\n",
    "                is used.                \n",
    "        \"\"\"\n",
    "        accepteed_strategies = [\"most_freq\", \"constant\", \"drop\"]\n",
    "        if strategy in accepteed_strategies:\n",
    "            self.strategy = strategy\n",
    "        else:\n",
    "            raise ValueError('Wrong strategy used. Please choose one of the following: \"most_freq\", \"constant\", \"drop\".' )\n",
    "        \n",
    "        if self.strategy == \"constant\" and value is None:\n",
    "           raise ValueError('Value of \"value\" argument is None, and when used with \"constant\" strategy it cannot be None')\n",
    "        else: \n",
    "            self.value = value\n",
    "        \n",
    "    def fit(self, X, y=None):\n",
    "        return self\n",
    "    \n",
    "    def transform(self, X, y=None):\n",
    "        X_new = deepcopy(X)\n",
    "        \n",
    "        for column in X_new.columns:\n",
    "            mask = X_new[column].isna()\n",
    "            \n",
    "            if self.strategy == \"most_freq\":\n",
    "                freq_value = X_new[column].mode()[0]\n",
    "                X_new.loc[mask, column] = freq_value\n",
    "            elif self.strategy == \"constant\":\n",
    "                X_new.loc[mask, column] = self.value\n",
    "                \n",
    "        if self.strategy == \"drop\":\n",
    "            X_new = X_new.dropna(axis=0)\n",
    "            \n",
    "        return X_new"
   ]
  },
  {
   "cell_type": "markdown",
   "metadata": {},
   "source": [
    "### Creating Transforming Pipeline"
   ]
  },
  {
   "cell_type": "code",
   "execution_count": 169,
   "metadata": {},
   "outputs": [],
   "source": [
    "from sklearn.pipeline import Pipeline\n",
    "from sklearn.compose import ColumnTransformer\n",
    "from sklearn.impute import SimpleImputer\n",
    "from sklearn.preprocessing import StandardScaler\n",
    "from sklearn.preprocessing import OneHotEncoder\n",
    "\n",
    "num_pipeline = Pipeline([\n",
    "    (\"sim_imp\", SimpleImputer()),\n",
    "    (\"std_scaler\", StandardScaler()),\n",
    "])\n",
    "\n",
    "cat_pipeline = Pipeline([\n",
    "    (\"cat_imp\", CategoricalImputer()),\n",
    "    (\"seat_adder\", SeatInfoAdder()),\n",
    "    (\"one_hot\", OneHotEncoder(handle_unknown=\"ignore\"))\n",
    "])\n",
    "\n",
    "\n",
    "transform_pipeline = ColumnTransformer([\n",
    "    (\"num_tr\", num_pipeline, num_cols),\n",
    "    (\"cat_tr\", cat_pipeline, cat_cols),\n",
    "])"
   ]
  },
  {
   "cell_type": "markdown",
   "metadata": {},
   "source": [
    "## Model selection"
   ]
  },
  {
   "cell_type": "markdown",
   "metadata": {},
   "source": [
    "First I will see, how much F1 score I will achieve using Random Forest Classifier."
   ]
  },
  {
   "cell_type": "code",
   "execution_count": 175,
   "metadata": {},
   "outputs": [
    {
     "name": "stdout",
     "output_type": "stream",
     "text": [
      "Fitting 2 folds for each of 12 candidates, totalling 24 fits\n",
      "[CV 1/2] END forest_clf__max_leaf_nodes=300, forest_clf__n_estimators=1000, transform__cat_tr__seat_adder__only_deck=True;, score=0.763 total time=  19.4s\n",
      "[CV 2/2] END forest_clf__max_leaf_nodes=300, forest_clf__n_estimators=1000, transform__cat_tr__seat_adder__only_deck=True;, score=0.739 total time=  20.3s\n",
      "[CV 1/2] END forest_clf__max_leaf_nodes=300, forest_clf__n_estimators=1000, transform__cat_tr__seat_adder__only_deck=False;, score=0.764 total time=  21.8s\n",
      "[CV 2/2] END forest_clf__max_leaf_nodes=300, forest_clf__n_estimators=1000, transform__cat_tr__seat_adder__only_deck=False;, score=0.741 total time=  21.0s\n",
      "[CV 1/2] END forest_clf__max_leaf_nodes=300, forest_clf__n_estimators=1500, transform__cat_tr__seat_adder__only_deck=True;, score=0.763 total time=  31.8s\n",
      "[CV 2/2] END forest_clf__max_leaf_nodes=300, forest_clf__n_estimators=1500, transform__cat_tr__seat_adder__only_deck=True;, score=0.740 total time=  31.4s\n",
      "[CV 1/2] END forest_clf__max_leaf_nodes=300, forest_clf__n_estimators=1500, transform__cat_tr__seat_adder__only_deck=False;, score=0.759 total time=  34.9s\n",
      "[CV 2/2] END forest_clf__max_leaf_nodes=300, forest_clf__n_estimators=1500, transform__cat_tr__seat_adder__only_deck=False;, score=0.739 total time=  32.7s\n",
      "[CV 1/2] END forest_clf__max_leaf_nodes=500, forest_clf__n_estimators=1000, transform__cat_tr__seat_adder__only_deck=True;, score=0.769 total time=  38.5s\n",
      "[CV 2/2] END forest_clf__max_leaf_nodes=500, forest_clf__n_estimators=1000, transform__cat_tr__seat_adder__only_deck=True;, score=0.747 total time=  39.1s\n",
      "[CV 1/2] END forest_clf__max_leaf_nodes=500, forest_clf__n_estimators=1000, transform__cat_tr__seat_adder__only_deck=False;, score=0.771 total time=  38.3s\n",
      "[CV 2/2] END forest_clf__max_leaf_nodes=500, forest_clf__n_estimators=1000, transform__cat_tr__seat_adder__only_deck=False;, score=0.748 total time=  39.2s\n",
      "[CV 1/2] END forest_clf__max_leaf_nodes=500, forest_clf__n_estimators=1500, transform__cat_tr__seat_adder__only_deck=True;, score=0.770 total time=  57.6s\n",
      "[CV 2/2] END forest_clf__max_leaf_nodes=500, forest_clf__n_estimators=1500, transform__cat_tr__seat_adder__only_deck=True;, score=0.748 total time=  57.8s\n",
      "[CV 1/2] END forest_clf__max_leaf_nodes=500, forest_clf__n_estimators=1500, transform__cat_tr__seat_adder__only_deck=False;, score=0.769 total time=  58.7s\n",
      "[CV 2/2] END forest_clf__max_leaf_nodes=500, forest_clf__n_estimators=1500, transform__cat_tr__seat_adder__only_deck=False;, score=0.751 total time=  59.8s\n",
      "[CV 1/2] END forest_clf__max_leaf_nodes=750, forest_clf__n_estimators=1000, transform__cat_tr__seat_adder__only_deck=True;, score=0.775 total time= 1.0min\n",
      "[CV 2/2] END forest_clf__max_leaf_nodes=750, forest_clf__n_estimators=1000, transform__cat_tr__seat_adder__only_deck=True;, score=0.753 total time= 1.0min\n",
      "[CV 1/2] END forest_clf__max_leaf_nodes=750, forest_clf__n_estimators=1000, transform__cat_tr__seat_adder__only_deck=False;, score=0.773 total time= 1.0min\n",
      "[CV 2/2] END forest_clf__max_leaf_nodes=750, forest_clf__n_estimators=1000, transform__cat_tr__seat_adder__only_deck=False;, score=0.758 total time= 1.0min\n",
      "[CV 1/2] END forest_clf__max_leaf_nodes=750, forest_clf__n_estimators=1500, transform__cat_tr__seat_adder__only_deck=True;, score=0.773 total time= 1.5min\n",
      "[CV 2/2] END forest_clf__max_leaf_nodes=750, forest_clf__n_estimators=1500, transform__cat_tr__seat_adder__only_deck=True;, score=0.755 total time= 1.5min\n",
      "[CV 1/2] END forest_clf__max_leaf_nodes=750, forest_clf__n_estimators=1500, transform__cat_tr__seat_adder__only_deck=False;, score=0.774 total time= 1.6min\n",
      "[CV 2/2] END forest_clf__max_leaf_nodes=750, forest_clf__n_estimators=1500, transform__cat_tr__seat_adder__only_deck=False;, score=0.759 total time= 1.6min\n",
      "Best params: {'forest_clf__max_leaf_nodes': 750, 'forest_clf__n_estimators': 1500, 'transform__cat_tr__seat_adder__only_deck': False}\n",
      " Best score: 0.766337633179671\n"
     ]
    }
   ],
   "source": [
    "from sklearn.model_selection import GridSearchCV\n",
    "from sklearn.ensemble import RandomForestClassifier\n",
    "\n",
    "forest = RandomForestClassifier()\n",
    "\n",
    "full_pipeline = Pipeline([\n",
    "    (\"transform\", transform_pipeline),\n",
    "    (\"forest_clf\", forest)\n",
    "])\n",
    "\n",
    "param_grid = [\n",
    "    # {\n",
    "    #     \"forest_clf__n_estimators\": [3000, 5000],\n",
    "    #     \"forest_clf__max_leaf_nodes\": [25, 50],\n",
    "    #     \"transform__cat_tr__seat_adder__only_deck\": [True, False],\n",
    "    # },\n",
    "    {\n",
    "        \"forest_clf__n_estimators\": [1000, 1500],\n",
    "        \"forest_clf__max_leaf_nodes\": [300, 500, 750],\n",
    "        \"transform__cat_tr__seat_adder__only_deck\": [True, False],\n",
    "    }\n",
    "]\n",
    "\n",
    "grid_CV = GridSearchCV(full_pipeline, param_grid, cv=2, verbose=3, scoring=\"f1\")\n",
    "grid_CV.fit(X_train, y_train)\n",
    "print(f\"Best params: {grid_CV.best_params_}\\n Best score: {grid_CV.best_score_}\")"
   ]
  },
  {
   "cell_type": "code",
   "execution_count": 176,
   "metadata": {},
   "outputs": [],
   "source": [
    "best_forest = grid_CV.best_estimator_"
   ]
  },
  {
   "cell_type": "code",
   "execution_count": 178,
   "metadata": {},
   "outputs": [
    {
     "data": {
      "text/plain": [
       "['models\\\\16\\\\best_forest.pkl']"
      ]
     },
     "execution_count": 178,
     "metadata": {},
     "output_type": "execute_result"
    }
   ],
   "source": [
    "import joblib\n",
    "\n",
    "joblib.dump(best_forest, \"models\\\\16\\\\best_forest.pkl\")"
   ]
  }
 ],
 "metadata": {
  "kernelspec": {
   "display_name": "Python 3.9.13 ('env': venv)",
   "language": "python",
   "name": "python3"
  },
  "language_info": {
   "codemirror_mode": {
    "name": "ipython",
    "version": 3
   },
   "file_extension": ".py",
   "mimetype": "text/x-python",
   "name": "python",
   "nbconvert_exporter": "python",
   "pygments_lexer": "ipython3",
   "version": "3.9.13"
  },
  "orig_nbformat": 4,
  "vscode": {
   "interpreter": {
    "hash": "b7fdb54b42d75f7dc4bc7211c14a537c22f55fe700ff72c130752bbe38f9a9cd"
   }
  }
 },
 "nbformat": 4,
 "nbformat_minor": 2
}
