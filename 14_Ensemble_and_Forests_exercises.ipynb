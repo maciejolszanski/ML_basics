{
 "cells": [
  {
   "cell_type": "markdown",
   "metadata": {},
   "source": [
    "# Exercises from chapter 7"
   ]
  },
  {
   "cell_type": "markdown",
   "metadata": {},
   "source": [
    "## Ex. 8"
   ]
  },
  {
   "cell_type": "code",
   "execution_count": 56,
   "metadata": {},
   "outputs": [],
   "source": [
    "import joblib\n",
    "\n",
    "CALCULATE = False"
   ]
  },
  {
   "cell_type": "code",
   "execution_count": 32,
   "metadata": {},
   "outputs": [
    {
     "data": {
      "text/plain": [
       "dict_keys(['data', 'target', 'frame', 'categories', 'feature_names', 'target_names', 'DESCR', 'details', 'url'])"
      ]
     },
     "execution_count": 32,
     "metadata": {},
     "output_type": "execute_result"
    }
   ],
   "source": [
    "from sklearn.datasets import fetch_openml\n",
    "\n",
    "mnist = fetch_openml('mnist_784', version=1, as_frame=False)\n",
    "mnist.keys()"
   ]
  },
  {
   "cell_type": "code",
   "execution_count": 33,
   "metadata": {},
   "outputs": [
    {
     "data": {
      "text/plain": [
       "(70000,)"
      ]
     },
     "execution_count": 33,
     "metadata": {},
     "output_type": "execute_result"
    }
   ],
   "source": [
    "import numpy as np\n",
    "import pandas as pd\n",
    "\n",
    "X, y = mnist[\"data\"], mnist[\"target\"]\n",
    "y.shape"
   ]
  },
  {
   "cell_type": "code",
   "execution_count": 34,
   "metadata": {},
   "outputs": [
    {
     "name": "stdout",
     "output_type": "stream",
     "text": [
      "(50000, 784) (10000, 784) (10000, 784)\n"
     ]
    }
   ],
   "source": [
    "from sklearn.model_selection import train_test_split\n",
    "\n",
    "X_train, X_test, y_train, y_test = train_test_split(X, y, test_size=10000, random_state=42)\n",
    "X_train, X_valid, y_train, y_valid = train_test_split(X_train, y_train, test_size=10000, random_state=42)\n",
    "\n",
    "print(X_train.shape, X_valid.shape, X_test.shape)"
   ]
  },
  {
   "cell_type": "markdown",
   "metadata": {},
   "source": [
    "#### Decision Tree Classifier"
   ]
  },
  {
   "cell_type": "code",
   "execution_count": 59,
   "metadata": {},
   "outputs": [
    {
     "name": "stdout",
     "output_type": "stream",
     "text": [
      "Fitting 2 folds for each of 12 candidates, totalling 24 fits\n",
      "[CV 1/2] END ..max_depth=20, max_leaf_nodes=250;, score=0.826 total time=   3.7s\n",
      "[CV 2/2] END ..max_depth=20, max_leaf_nodes=250;, score=0.834 total time=   3.7s\n",
      "[CV 1/2] END ..max_depth=20, max_leaf_nodes=350;, score=0.834 total time=   3.5s\n",
      "[CV 2/2] END ..max_depth=20, max_leaf_nodes=350;, score=0.845 total time=   3.6s\n",
      "[CV 1/2] END ..max_depth=20, max_leaf_nodes=500;, score=0.841 total time=   4.1s\n",
      "[CV 2/2] END ..max_depth=20, max_leaf_nodes=500;, score=0.854 total time=   3.9s\n",
      "[CV 1/2] END .max_depth=20, max_leaf_nodes=1000;, score=0.844 total time=   4.5s\n",
      "[CV 2/2] END .max_depth=20, max_leaf_nodes=1000;, score=0.854 total time=   4.1s\n",
      "[CV 1/2] END ..max_depth=35, max_leaf_nodes=250;, score=0.826 total time=   3.3s\n",
      "[CV 2/2] END ..max_depth=35, max_leaf_nodes=250;, score=0.834 total time=   3.9s\n",
      "[CV 1/2] END ..max_depth=35, max_leaf_nodes=350;, score=0.834 total time=   3.4s\n",
      "[CV 2/2] END ..max_depth=35, max_leaf_nodes=350;, score=0.845 total time=   3.5s\n",
      "[CV 1/2] END ..max_depth=35, max_leaf_nodes=500;, score=0.841 total time=   3.6s\n",
      "[CV 2/2] END ..max_depth=35, max_leaf_nodes=500;, score=0.854 total time=   3.6s\n",
      "[CV 1/2] END .max_depth=35, max_leaf_nodes=1000;, score=0.843 total time=   4.4s\n",
      "[CV 2/2] END .max_depth=35, max_leaf_nodes=1000;, score=0.854 total time=   4.4s\n",
      "[CV 1/2] END ..max_depth=50, max_leaf_nodes=250;, score=0.825 total time=   3.6s\n",
      "[CV 2/2] END ..max_depth=50, max_leaf_nodes=250;, score=0.835 total time=   4.2s\n",
      "[CV 1/2] END ..max_depth=50, max_leaf_nodes=350;, score=0.835 total time=   3.4s\n",
      "[CV 2/2] END ..max_depth=50, max_leaf_nodes=350;, score=0.845 total time=   3.6s\n",
      "[CV 1/2] END ..max_depth=50, max_leaf_nodes=500;, score=0.840 total time=   3.6s\n",
      "[CV 2/2] END ..max_depth=50, max_leaf_nodes=500;, score=0.855 total time=   3.7s\n",
      "[CV 1/2] END .max_depth=50, max_leaf_nodes=1000;, score=0.842 total time=   4.6s\n",
      "[CV 2/2] END .max_depth=50, max_leaf_nodes=1000;, score=0.854 total time=   5.0s\n"
     ]
    }
   ],
   "source": [
    "from sklearn.tree import DecisionTreeClassifier\n",
    "from sklearn.model_selection import GridSearchCV\n",
    "\n",
    "params = {\n",
    "    \"max_depth\": [20, 35, 50],\n",
    "    \"max_leaf_nodes\":  [250, 350, 500, 1000]\n",
    "}\n",
    "\n",
    "tree_clf = DecisionTreeClassifier()\n",
    "gridCV = GridSearchCV(tree_clf, params, scoring=\"accuracy\", cv=2, verbose=3)\n",
    "\n",
    "if CALCULATE:\n",
    "    gridCV.fit(X_train, y_train)"
   ]
  },
  {
   "cell_type": "code",
   "execution_count": 60,
   "metadata": {},
   "outputs": [
    {
     "name": "stdout",
     "output_type": "stream",
     "text": [
      "DecisionTreeClassifier(max_depth=20, max_leaf_nodes=1000)\n",
      "0.8488\n"
     ]
    }
   ],
   "source": [
    "if CALCULATE:\n",
    "    \n",
    "    print(gridCV.best_estimator_)\n",
    "    print(gridCV.best_score_)"
   ]
  },
  {
   "cell_type": "code",
   "execution_count": 62,
   "metadata": {},
   "outputs": [
    {
     "data": {
      "text/plain": [
       "0.8731"
      ]
     },
     "execution_count": 62,
     "metadata": {},
     "output_type": "execute_result"
    }
   ],
   "source": [
    "from sklearn.metrics import accuracy_score\n",
    "\n",
    "if not CALCULATE:\n",
    "    best_tree = gridCV.best_estimator_\n",
    "    joblib.dump(best_tree, \"models/14/tree.pkl\")\n",
    "else:\n",
    "    best_tree = joblib.load(\"models/14/tree.pkl\")\n",
    "\n",
    "y_tree = best_tree.predict(X_valid)\n",
    "accuracy_score(y_valid, y_tree)\n"
   ]
  },
  {
   "cell_type": "markdown",
   "metadata": {},
   "source": [
    "#### Extra-Trees Classifier"
   ]
  },
  {
   "cell_type": "code",
   "execution_count": 38,
   "metadata": {},
   "outputs": [
    {
     "name": "stdout",
     "output_type": "stream",
     "text": [
      "Fitting 2 folds for each of 8 candidates, totalling 16 fits\n",
      "[CV 1/2] END criterion=gini, max_depth=25, n_estimators=100;, score=0.965 total time=  12.4s\n",
      "[CV 2/2] END criterion=gini, max_depth=25, n_estimators=100;, score=0.965 total time=  11.7s\n",
      "[CV 1/2] END criterion=gini, max_depth=25, n_estimators=250;, score=0.965 total time=  29.2s\n",
      "[CV 2/2] END criterion=gini, max_depth=25, n_estimators=250;, score=0.967 total time=  30.8s\n",
      "[CV 1/2] END criterion=gini, max_depth=50, n_estimators=100;, score=0.965 total time=  12.2s\n",
      "[CV 2/2] END criterion=gini, max_depth=50, n_estimators=100;, score=0.965 total time=  12.2s\n",
      "[CV 1/2] END criterion=gini, max_depth=50, n_estimators=250;, score=0.966 total time=  31.5s\n",
      "[CV 2/2] END criterion=gini, max_depth=50, n_estimators=250;, score=0.968 total time= 2.2min\n",
      "[CV 1/2] END criterion=entropy, max_depth=25, n_estimators=100;, score=0.963 total time=  14.8s\n",
      "[CV 2/2] END criterion=entropy, max_depth=25, n_estimators=100;, score=0.964 total time=  11.7s\n",
      "[CV 1/2] END criterion=entropy, max_depth=25, n_estimators=250;, score=0.965 total time=  28.2s\n",
      "[CV 2/2] END criterion=entropy, max_depth=25, n_estimators=250;, score=0.967 total time=  28.5s\n",
      "[CV 1/2] END criterion=entropy, max_depth=50, n_estimators=100;, score=0.964 total time=  11.2s\n",
      "[CV 2/2] END criterion=entropy, max_depth=50, n_estimators=100;, score=0.966 total time=  11.8s\n",
      "[CV 1/2] END criterion=entropy, max_depth=50, n_estimators=250;, score=0.966 total time=  27.5s\n",
      "[CV 2/2] END criterion=entropy, max_depth=50, n_estimators=250;, score=0.967 total time=  27.8s\n"
     ]
    }
   ],
   "source": [
    "from sklearn.ensemble import ExtraTreesClassifier\n",
    "\n",
    "params = {\n",
    "    \"n_estimators\": [100, 250],\n",
    "    \"criterion\": [\"gini\", \"entropy\"],\n",
    "    \"max_depth\": [25, 50]\n",
    "}\n",
    "\n",
    "extra_tree_clf = ExtraTreesClassifier()\n",
    "\n",
    "gridCV2 = GridSearchCV(extra_tree_clf, params, scoring=\"accuracy\", cv=2, verbose=3)\n",
    "\n",
    "if CALCULATE:\n",
    "    gridCV2.fit(X_train, y_train)"
   ]
  },
  {
   "cell_type": "code",
   "execution_count": 39,
   "metadata": {},
   "outputs": [
    {
     "name": "stdout",
     "output_type": "stream",
     "text": [
      "ExtraTreesClassifier(max_depth=50, n_estimators=250)\n",
      "0.96712\n"
     ]
    }
   ],
   "source": [
    "if CALCULATE:\n",
    "    print(gridCV2.best_estimator_)\n",
    "    print(gridCV2.best_score_)"
   ]
  },
  {
   "cell_type": "code",
   "execution_count": 61,
   "metadata": {},
   "outputs": [
    {
     "data": {
      "text/plain": [
       "0.9731"
      ]
     },
     "execution_count": 61,
     "metadata": {},
     "output_type": "execute_result"
    }
   ],
   "source": [
    "if CALCULATE:\n",
    "    best_extra_tree = gridCV2.best_estimator_\n",
    "    joblib.dump(best_extra_tree, \"models/14/extra_tree.pkl\")\n",
    "else:\n",
    "    best_extra_tree = joblib.load(\"models/14/extra_tree.pkl\")\n",
    "\n",
    "y_extra = best_extra_tree.predict(X_valid)\n",
    "accuracy_score(y_valid, y_extra)"
   ]
  },
  {
   "cell_type": "markdown",
   "metadata": {},
   "source": [
    "####  SVM"
   ]
  },
  {
   "cell_type": "code",
   "execution_count": 41,
   "metadata": {},
   "outputs": [
    {
     "name": "stdout",
     "output_type": "stream",
     "text": [
      "Fitting 2 folds for each of 4 candidates, totalling 8 fits\n",
      "[CV 1/2] END ....max_depth=10, n_estimators=100;, score=0.944 total time=   9.6s\n",
      "[CV 2/2] END ....max_depth=10, n_estimators=100;, score=0.943 total time=   8.9s\n",
      "[CV 1/2] END ....max_depth=10, n_estimators=250;, score=0.945 total time=  22.6s\n",
      "[CV 2/2] END ....max_depth=10, n_estimators=250;, score=0.945 total time=  23.5s\n",
      "[CV 1/2] END ....max_depth=25, n_estimators=100;, score=0.960 total time=  11.6s\n",
      "[CV 2/2] END ....max_depth=25, n_estimators=100;, score=0.962 total time=  12.2s\n",
      "[CV 1/2] END ....max_depth=25, n_estimators=250;, score=0.962 total time=  29.6s\n",
      "[CV 2/2] END ....max_depth=25, n_estimators=250;, score=0.964 total time=  30.2s\n"
     ]
    }
   ],
   "source": [
    "from sklearn.ensemble import RandomForestClassifier\n",
    "\n",
    "params = {\n",
    "    \"n_estimators\": [100, 250],\n",
    "    \"max_depth\": [10, 25]\n",
    "}\n",
    "\n",
    "rnd_clf = RandomForestClassifier()\n",
    "gridCV3 = GridSearchCV(rnd_clf, params, cv=2, verbose=3)\n",
    "\n",
    "if CALCULATE:\n",
    "    gridCV3.fit(X_train, y_train)"
   ]
  },
  {
   "cell_type": "code",
   "execution_count": 42,
   "metadata": {},
   "outputs": [
    {
     "name": "stdout",
     "output_type": "stream",
     "text": [
      "RandomForestClassifier(max_depth=25, n_estimators=250)\n",
      "0.96266\n"
     ]
    }
   ],
   "source": [
    "if CALCULATE:\n",
    "    print(gridCV3.best_estimator_)\n",
    "    print(gridCV3.best_score_)"
   ]
  },
  {
   "cell_type": "code",
   "execution_count": 43,
   "metadata": {},
   "outputs": [
    {
     "data": {
      "text/plain": [
       "0.9705"
      ]
     },
     "execution_count": 43,
     "metadata": {},
     "output_type": "execute_result"
    }
   ],
   "source": [
    "if CALCULATE:\n",
    "    best_forest = gridCV3.best_estimator_\n",
    "    joblib.dump(best_forest, \"models/14/forest.pkl\")\n",
    "else:\n",
    "    best_forest = joblib.load(\"models/14/forest.pkl\")\n",
    "    \n",
    "y_forest = best_forest.predict(X_valid)\n",
    "accuracy_score(y_valid, y_forest)"
   ]
  },
  {
   "cell_type": "markdown",
   "metadata": {},
   "source": [
    "#### Voting Classifier"
   ]
  },
  {
   "cell_type": "code",
   "execution_count": 63,
   "metadata": {},
   "outputs": [
    {
     "data": {
      "text/html": [
       "<style>#sk-container-id-6 {color: black;background-color: white;}#sk-container-id-6 pre{padding: 0;}#sk-container-id-6 div.sk-toggleable {background-color: white;}#sk-container-id-6 label.sk-toggleable__label {cursor: pointer;display: block;width: 100%;margin-bottom: 0;padding: 0.3em;box-sizing: border-box;text-align: center;}#sk-container-id-6 label.sk-toggleable__label-arrow:before {content: \"▸\";float: left;margin-right: 0.25em;color: #696969;}#sk-container-id-6 label.sk-toggleable__label-arrow:hover:before {color: black;}#sk-container-id-6 div.sk-estimator:hover label.sk-toggleable__label-arrow:before {color: black;}#sk-container-id-6 div.sk-toggleable__content {max-height: 0;max-width: 0;overflow: hidden;text-align: left;background-color: #f0f8ff;}#sk-container-id-6 div.sk-toggleable__content pre {margin: 0.2em;color: black;border-radius: 0.25em;background-color: #f0f8ff;}#sk-container-id-6 input.sk-toggleable__control:checked~div.sk-toggleable__content {max-height: 200px;max-width: 100%;overflow: auto;}#sk-container-id-6 input.sk-toggleable__control:checked~label.sk-toggleable__label-arrow:before {content: \"▾\";}#sk-container-id-6 div.sk-estimator input.sk-toggleable__control:checked~label.sk-toggleable__label {background-color: #d4ebff;}#sk-container-id-6 div.sk-label input.sk-toggleable__control:checked~label.sk-toggleable__label {background-color: #d4ebff;}#sk-container-id-6 input.sk-hidden--visually {border: 0;clip: rect(1px 1px 1px 1px);clip: rect(1px, 1px, 1px, 1px);height: 1px;margin: -1px;overflow: hidden;padding: 0;position: absolute;width: 1px;}#sk-container-id-6 div.sk-estimator {font-family: monospace;background-color: #f0f8ff;border: 1px dotted black;border-radius: 0.25em;box-sizing: border-box;margin-bottom: 0.5em;}#sk-container-id-6 div.sk-estimator:hover {background-color: #d4ebff;}#sk-container-id-6 div.sk-parallel-item::after {content: \"\";width: 100%;border-bottom: 1px solid gray;flex-grow: 1;}#sk-container-id-6 div.sk-label:hover label.sk-toggleable__label {background-color: #d4ebff;}#sk-container-id-6 div.sk-serial::before {content: \"\";position: absolute;border-left: 1px solid gray;box-sizing: border-box;top: 0;bottom: 0;left: 50%;z-index: 0;}#sk-container-id-6 div.sk-serial {display: flex;flex-direction: column;align-items: center;background-color: white;padding-right: 0.2em;padding-left: 0.2em;position: relative;}#sk-container-id-6 div.sk-item {position: relative;z-index: 1;}#sk-container-id-6 div.sk-parallel {display: flex;align-items: stretch;justify-content: center;background-color: white;position: relative;}#sk-container-id-6 div.sk-item::before, #sk-container-id-6 div.sk-parallel-item::before {content: \"\";position: absolute;border-left: 1px solid gray;box-sizing: border-box;top: 0;bottom: 0;left: 50%;z-index: -1;}#sk-container-id-6 div.sk-parallel-item {display: flex;flex-direction: column;z-index: 1;position: relative;background-color: white;}#sk-container-id-6 div.sk-parallel-item:first-child::after {align-self: flex-end;width: 50%;}#sk-container-id-6 div.sk-parallel-item:last-child::after {align-self: flex-start;width: 50%;}#sk-container-id-6 div.sk-parallel-item:only-child::after {width: 0;}#sk-container-id-6 div.sk-dashed-wrapped {border: 1px dashed gray;margin: 0 0.4em 0.5em 0.4em;box-sizing: border-box;padding-bottom: 0.4em;background-color: white;}#sk-container-id-6 div.sk-label label {font-family: monospace;font-weight: bold;display: inline-block;line-height: 1.2em;}#sk-container-id-6 div.sk-label-container {text-align: center;}#sk-container-id-6 div.sk-container {/* jupyter's `normalize.less` sets `[hidden] { display: none; }` but bootstrap.min.css set `[hidden] { display: none !important; }` so we also need the `!important` here to be able to override the default hidden behavior on the sphinx rendered scikit-learn.org. See: https://github.com/scikit-learn/scikit-learn/issues/21755 */display: inline-block !important;position: relative;}#sk-container-id-6 div.sk-text-repr-fallback {display: none;}</style><div id=\"sk-container-id-6\" class=\"sk-top-container\"><div class=\"sk-text-repr-fallback\"><pre>VotingClassifier(estimators=[(&#x27;forest&#x27;,\n",
       "                              RandomForestClassifier(max_depth=25,\n",
       "                                                     n_estimators=250)),\n",
       "                             (&#x27;extra&#x27;,\n",
       "                              ExtraTreesClassifier(max_depth=50,\n",
       "                                                   n_estimators=250)),\n",
       "                             (&#x27;tree&#x27;,\n",
       "                              DecisionTreeClassifier(max_depth=20,\n",
       "                                                     max_leaf_nodes=1000))])</pre><b>In a Jupyter environment, please rerun this cell to show the HTML representation or trust the notebook. <br />On GitHub, the HTML representation is unable to render, please try loading this page with nbviewer.org.</b></div><div class=\"sk-container\" hidden><div class=\"sk-item sk-dashed-wrapped\"><div class=\"sk-label-container\"><div class=\"sk-label sk-toggleable\"><input class=\"sk-toggleable__control sk-hidden--visually\" id=\"sk-estimator-id-20\" type=\"checkbox\" ><label for=\"sk-estimator-id-20\" class=\"sk-toggleable__label sk-toggleable__label-arrow\">VotingClassifier</label><div class=\"sk-toggleable__content\"><pre>VotingClassifier(estimators=[(&#x27;forest&#x27;,\n",
       "                              RandomForestClassifier(max_depth=25,\n",
       "                                                     n_estimators=250)),\n",
       "                             (&#x27;extra&#x27;,\n",
       "                              ExtraTreesClassifier(max_depth=50,\n",
       "                                                   n_estimators=250)),\n",
       "                             (&#x27;tree&#x27;,\n",
       "                              DecisionTreeClassifier(max_depth=20,\n",
       "                                                     max_leaf_nodes=1000))])</pre></div></div></div><div class=\"sk-parallel\"><div class=\"sk-parallel-item\"><div class=\"sk-item\"><div class=\"sk-label-container\"><div class=\"sk-label sk-toggleable\"><label>forest</label></div></div><div class=\"sk-serial\"><div class=\"sk-item\"><div class=\"sk-estimator sk-toggleable\"><input class=\"sk-toggleable__control sk-hidden--visually\" id=\"sk-estimator-id-21\" type=\"checkbox\" ><label for=\"sk-estimator-id-21\" class=\"sk-toggleable__label sk-toggleable__label-arrow\">RandomForestClassifier</label><div class=\"sk-toggleable__content\"><pre>RandomForestClassifier(max_depth=25, n_estimators=250)</pre></div></div></div></div></div></div><div class=\"sk-parallel-item\"><div class=\"sk-item\"><div class=\"sk-label-container\"><div class=\"sk-label sk-toggleable\"><label>extra</label></div></div><div class=\"sk-serial\"><div class=\"sk-item\"><div class=\"sk-estimator sk-toggleable\"><input class=\"sk-toggleable__control sk-hidden--visually\" id=\"sk-estimator-id-22\" type=\"checkbox\" ><label for=\"sk-estimator-id-22\" class=\"sk-toggleable__label sk-toggleable__label-arrow\">ExtraTreesClassifier</label><div class=\"sk-toggleable__content\"><pre>ExtraTreesClassifier(max_depth=50, n_estimators=250)</pre></div></div></div></div></div></div><div class=\"sk-parallel-item\"><div class=\"sk-item\"><div class=\"sk-label-container\"><div class=\"sk-label sk-toggleable\"><label>tree</label></div></div><div class=\"sk-serial\"><div class=\"sk-item\"><div class=\"sk-estimator sk-toggleable\"><input class=\"sk-toggleable__control sk-hidden--visually\" id=\"sk-estimator-id-23\" type=\"checkbox\" ><label for=\"sk-estimator-id-23\" class=\"sk-toggleable__label sk-toggleable__label-arrow\">DecisionTreeClassifier</label><div class=\"sk-toggleable__content\"><pre>DecisionTreeClassifier(max_depth=20, max_leaf_nodes=1000)</pre></div></div></div></div></div></div></div></div></div></div>"
      ],
      "text/plain": [
       "VotingClassifier(estimators=[('forest',\n",
       "                              RandomForestClassifier(max_depth=25,\n",
       "                                                     n_estimators=250)),\n",
       "                             ('extra',\n",
       "                              ExtraTreesClassifier(max_depth=50,\n",
       "                                                   n_estimators=250)),\n",
       "                             ('tree',\n",
       "                              DecisionTreeClassifier(max_depth=20,\n",
       "                                                     max_leaf_nodes=1000))])"
      ]
     },
     "execution_count": 63,
     "metadata": {},
     "output_type": "execute_result"
    }
   ],
   "source": [
    "from sklearn.ensemble import VotingClassifier\n",
    "\n",
    "voting_clf = VotingClassifier(\n",
    "    estimators= [(\"forest\", best_forest), (\"extra\", best_extra_tree), (\"tree\", best_tree)],\n",
    "    voting = \"hard\")\n",
    "\n",
    "voting_clf.fit(X_train, y_train)"
   ]
  },
  {
   "cell_type": "code",
   "execution_count": 64,
   "metadata": {},
   "outputs": [
    {
     "data": {
      "text/plain": [
       "0.9712"
      ]
     },
     "execution_count": 64,
     "metadata": {},
     "output_type": "execute_result"
    }
   ],
   "source": [
    "y_pred = voting_clf.predict(X_valid)\n",
    "accuracy_score(y_valid, y_pred)"
   ]
  },
  {
   "cell_type": "code",
   "execution_count": 65,
   "metadata": {},
   "outputs": [
    {
     "name": "stdout",
     "output_type": "stream",
     "text": [
      "Tree:  0.8693\n",
      "Extra Trees:  0.9688\n",
      "Forest:  0.9658\n",
      "Voting:  0.9668\n"
     ]
    }
   ],
   "source": [
    "y_pred_test = best_tree.predict(X_test)\n",
    "print(\"Tree: \", accuracy_score(y_test, y_pred_test))\n",
    "y_pred_test = best_extra_tree.predict(X_test)\n",
    "print(\"Extra Trees: \", accuracy_score(y_test, y_pred_test))\n",
    "y_pred_test = best_forest.predict(X_test)\n",
    "print(\"Forest: \", accuracy_score(y_test, y_pred_test))\n",
    "y_pred_test = voting_clf.predict(X_test)\n",
    "print(\"Voting: \", accuracy_score(y_test, y_pred_test))"
   ]
  },
  {
   "cell_type": "markdown",
   "metadata": {},
   "source": [
    "## Ex. 9"
   ]
  },
  {
   "cell_type": "code",
   "execution_count": 73,
   "metadata": {},
   "outputs": [],
   "source": [
    "y_pred_tree = best_tree.predict(X_valid)\n",
    "y_pred_extra = best_extra_tree.predict(X_valid)\n",
    "y_pred_forest = best_forest.predict(X_valid)\n",
    "\n",
    "X_train_cont = np.c_[y_pred_tree, y_pred_extra, y_pred_forest]\n",
    "y_train_cont = y_valid"
   ]
  },
  {
   "cell_type": "code",
   "execution_count": 74,
   "metadata": {},
   "outputs": [
    {
     "data": {
      "text/html": [
       "<style>#sk-container-id-7 {color: black;background-color: white;}#sk-container-id-7 pre{padding: 0;}#sk-container-id-7 div.sk-toggleable {background-color: white;}#sk-container-id-7 label.sk-toggleable__label {cursor: pointer;display: block;width: 100%;margin-bottom: 0;padding: 0.3em;box-sizing: border-box;text-align: center;}#sk-container-id-7 label.sk-toggleable__label-arrow:before {content: \"▸\";float: left;margin-right: 0.25em;color: #696969;}#sk-container-id-7 label.sk-toggleable__label-arrow:hover:before {color: black;}#sk-container-id-7 div.sk-estimator:hover label.sk-toggleable__label-arrow:before {color: black;}#sk-container-id-7 div.sk-toggleable__content {max-height: 0;max-width: 0;overflow: hidden;text-align: left;background-color: #f0f8ff;}#sk-container-id-7 div.sk-toggleable__content pre {margin: 0.2em;color: black;border-radius: 0.25em;background-color: #f0f8ff;}#sk-container-id-7 input.sk-toggleable__control:checked~div.sk-toggleable__content {max-height: 200px;max-width: 100%;overflow: auto;}#sk-container-id-7 input.sk-toggleable__control:checked~label.sk-toggleable__label-arrow:before {content: \"▾\";}#sk-container-id-7 div.sk-estimator input.sk-toggleable__control:checked~label.sk-toggleable__label {background-color: #d4ebff;}#sk-container-id-7 div.sk-label input.sk-toggleable__control:checked~label.sk-toggleable__label {background-color: #d4ebff;}#sk-container-id-7 input.sk-hidden--visually {border: 0;clip: rect(1px 1px 1px 1px);clip: rect(1px, 1px, 1px, 1px);height: 1px;margin: -1px;overflow: hidden;padding: 0;position: absolute;width: 1px;}#sk-container-id-7 div.sk-estimator {font-family: monospace;background-color: #f0f8ff;border: 1px dotted black;border-radius: 0.25em;box-sizing: border-box;margin-bottom: 0.5em;}#sk-container-id-7 div.sk-estimator:hover {background-color: #d4ebff;}#sk-container-id-7 div.sk-parallel-item::after {content: \"\";width: 100%;border-bottom: 1px solid gray;flex-grow: 1;}#sk-container-id-7 div.sk-label:hover label.sk-toggleable__label {background-color: #d4ebff;}#sk-container-id-7 div.sk-serial::before {content: \"\";position: absolute;border-left: 1px solid gray;box-sizing: border-box;top: 0;bottom: 0;left: 50%;z-index: 0;}#sk-container-id-7 div.sk-serial {display: flex;flex-direction: column;align-items: center;background-color: white;padding-right: 0.2em;padding-left: 0.2em;position: relative;}#sk-container-id-7 div.sk-item {position: relative;z-index: 1;}#sk-container-id-7 div.sk-parallel {display: flex;align-items: stretch;justify-content: center;background-color: white;position: relative;}#sk-container-id-7 div.sk-item::before, #sk-container-id-7 div.sk-parallel-item::before {content: \"\";position: absolute;border-left: 1px solid gray;box-sizing: border-box;top: 0;bottom: 0;left: 50%;z-index: -1;}#sk-container-id-7 div.sk-parallel-item {display: flex;flex-direction: column;z-index: 1;position: relative;background-color: white;}#sk-container-id-7 div.sk-parallel-item:first-child::after {align-self: flex-end;width: 50%;}#sk-container-id-7 div.sk-parallel-item:last-child::after {align-self: flex-start;width: 50%;}#sk-container-id-7 div.sk-parallel-item:only-child::after {width: 0;}#sk-container-id-7 div.sk-dashed-wrapped {border: 1px dashed gray;margin: 0 0.4em 0.5em 0.4em;box-sizing: border-box;padding-bottom: 0.4em;background-color: white;}#sk-container-id-7 div.sk-label label {font-family: monospace;font-weight: bold;display: inline-block;line-height: 1.2em;}#sk-container-id-7 div.sk-label-container {text-align: center;}#sk-container-id-7 div.sk-container {/* jupyter's `normalize.less` sets `[hidden] { display: none; }` but bootstrap.min.css set `[hidden] { display: none !important; }` so we also need the `!important` here to be able to override the default hidden behavior on the sphinx rendered scikit-learn.org. See: https://github.com/scikit-learn/scikit-learn/issues/21755 */display: inline-block !important;position: relative;}#sk-container-id-7 div.sk-text-repr-fallback {display: none;}</style><div id=\"sk-container-id-7\" class=\"sk-top-container\"><div class=\"sk-text-repr-fallback\"><pre>RandomForestClassifier()</pre><b>In a Jupyter environment, please rerun this cell to show the HTML representation or trust the notebook. <br />On GitHub, the HTML representation is unable to render, please try loading this page with nbviewer.org.</b></div><div class=\"sk-container\" hidden><div class=\"sk-item\"><div class=\"sk-estimator sk-toggleable\"><input class=\"sk-toggleable__control sk-hidden--visually\" id=\"sk-estimator-id-24\" type=\"checkbox\" checked><label for=\"sk-estimator-id-24\" class=\"sk-toggleable__label sk-toggleable__label-arrow\">RandomForestClassifier</label><div class=\"sk-toggleable__content\"><pre>RandomForestClassifier()</pre></div></div></div></div></div>"
      ],
      "text/plain": [
       "RandomForestClassifier()"
      ]
     },
     "execution_count": 74,
     "metadata": {},
     "output_type": "execute_result"
    }
   ],
   "source": [
    "forest_cont = RandomForestClassifier()\n",
    "\n",
    "forest_cont.fit(X_train_cont, y_train_cont)"
   ]
  },
  {
   "cell_type": "code",
   "execution_count": 76,
   "metadata": {},
   "outputs": [
    {
     "data": {
      "text/plain": [
       "0.9664"
      ]
     },
     "execution_count": 76,
     "metadata": {},
     "output_type": "execute_result"
    }
   ],
   "source": [
    "y_pred_tree = best_tree.predict(X_test)\n",
    "y_pred_extra = best_extra_tree.predict(X_test)\n",
    "y_pred_forest = best_forest.predict(X_test)\n",
    "\n",
    "X_test_cont = np.c_[y_pred_tree, y_pred_extra, y_pred_forest]\n",
    "\n",
    "y_pred_cont = forest_cont.predict(X_test_cont)\n",
    "accuracy_score(y_test, y_pred_cont)"
   ]
  }
 ],
 "metadata": {
  "kernelspec": {
   "display_name": "env",
   "language": "python",
   "name": "python3"
  },
  "language_info": {
   "codemirror_mode": {
    "name": "ipython",
    "version": 3
   },
   "file_extension": ".py",
   "mimetype": "text/x-python",
   "name": "python",
   "nbconvert_exporter": "python",
   "pygments_lexer": "ipython3",
   "version": "3.9.13"
  },
  "orig_nbformat": 4,
  "vscode": {
   "interpreter": {
    "hash": "b7fdb54b42d75f7dc4bc7211c14a537c22f55fe700ff72c130752bbe38f9a9cd"
   }
  }
 },
 "nbformat": 4,
 "nbformat_minor": 2
}
